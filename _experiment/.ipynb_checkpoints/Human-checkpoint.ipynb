{
 "cells": [
  {
   "cell_type": "code",
   "execution_count": 1,
   "metadata": {},
   "outputs": [],
   "source": [
    "import requests as rq"
   ]
  },
  {
   "cell_type": "code",
   "execution_count": 4,
   "metadata": {},
   "outputs": [],
   "source": [
    "user = \"brennen+hapi@citizenhealth.io\"\n",
    "pw = \"b2G5hddrAdpyYJT\"\n",
    "client_id = \"b3ba82edcb7acf0b5c0bd97dd61fb7f95cf425fa\"\n",
    "client_secret = \"6afec5e52be32eafb4af80cbeec1231d063fda00\"\n",
    "auth_url = \"https://auth.humanapi.co/v1/connect/token\"\n",
    "\n",
    "body = {\n",
    "  client_id: client_id,\n",
    "  client_user_id: \"--YOUR_UNIQUE_IDENTIFIER--\",\n",
    "  client_user_email: \"demo@humanapi.co\",\n",
    "  client_secret: client_secret,\n",
    "  type: \"id\"\n",
    "};\n"
   ]
  },
  {
   "cell_type": "code",
   "execution_count": null,
   "metadata": {},
   "outputs": [],
   "source": []
  }
 ],
 "metadata": {
  "kernelspec": {
   "display_name": "Python 3",
   "language": "python",
   "name": "python3"
  },
  "language_info": {
   "codemirror_mode": {
    "name": "ipython",
    "version": 3
   },
   "file_extension": ".py",
   "mimetype": "text/x-python",
   "name": "python",
   "nbconvert_exporter": "python",
   "pygments_lexer": "ipython3",
   "version": "3.6.10"
  }
 },
 "nbformat": 4,
 "nbformat_minor": 4
}
