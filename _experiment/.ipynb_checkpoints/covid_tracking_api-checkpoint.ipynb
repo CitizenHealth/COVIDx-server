{
 "cells": [
  {
   "cell_type": "code",
   "execution_count": 36,
   "metadata": {},
   "outputs": [],
   "source": [
    "import requests as rq\n",
    "import csv\n",
    "import json\n",
    "from flask import request, jsonify"
   ]
  },
  {
   "cell_type": "code",
   "execution_count": 37,
   "metadata": {},
   "outputs": [],
   "source": [
    "covid_tracking = rq.get(\"https://covidtracking.com/api/v1/states/current.json\").json()"
   ]
  },
  {
   "cell_type": "code",
   "execution_count": 38,
   "metadata": {
    "scrolled": true
   },
   "outputs": [],
   "source": [
    "with open(\"states_coords.csv\", \"r\") as f:\n",
    "    csv_file = csv.reader(f, delimiter=\",\")\n",
    "    csv_unpacked = [row for row in csv_file]\n",
    "    states_coords = [{csv_unpacked[0][i]: row[i] for i in range(len(row))} for row in csv_unpacked]"
   ]
  },
  {
   "cell_type": "code",
   "execution_count": 39,
   "metadata": {},
   "outputs": [],
   "source": [
    "for covid_row in covid_tracking:\n",
    "    for coords_row in states_coords:\n",
    "        if covid_row['state']==coords_row['state']:\n",
    "            covid_row['name']=coords_row['name']"
   ]
  },
  {
   "cell_type": "markdown",
   "metadata": {},
   "source": [
    "can make the geojson the parent file, and use some metrics from the covid tracking dataset in properties"
   ]
  },
  {
   "cell_type": "code",
   "execution_count": null,
   "metadata": {},
   "outputs": [],
   "source": [
    "with open(\"state_poly.json\") as f:\n",
    "    jf=json.load(f)"
   ]
  },
  {
   "cell_type": "code",
   "execution_count": 42,
   "metadata": {},
   "outputs": [],
   "source": [
    "for state_poly in jf['features']:\n",
    "    for state_covid in covid_tracking:\n",
    "        if state_poly['properties']['NAME']==state_covid['name']:\n",
    "            state_poly['properties']['positive'] = state_covid['positive']\n",
    "            break\n",
    "#         print(state)\n",
    "#         break"
   ]
  },
  {
   "cell_type": "code",
   "execution_count": null,
   "metadata": {},
   "outputs": [],
   "source": []
  }
 ],
 "metadata": {
  "kernelspec": {
   "display_name": "Python 3",
   "language": "python",
   "name": "python3"
  },
  "language_info": {
   "codemirror_mode": {
    "name": "ipython",
    "version": 3
   },
   "file_extension": ".py",
   "mimetype": "text/x-python",
   "name": "python",
   "nbconvert_exporter": "python",
   "pygments_lexer": "ipython3",
   "version": "3.6.10"
  }
 },
 "nbformat": 4,
 "nbformat_minor": 4
}
