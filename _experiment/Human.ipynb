{
 "cells": [
  {
   "cell_type": "code",
   "execution_count": 1,
   "metadata": {},
   "outputs": [],
   "source": [
    "import requests as rq"
   ]
  },
  {
   "cell_type": "code",
   "execution_count": 46,
   "metadata": {},
   "outputs": [],
   "source": [
    "user = \"brennen+hapi@citizenhealth.io\"\n",
    "pw = \"b2G5hddrAdpyYJT\"\n",
    "client_id = \"b3ba82edcb7acf0b5c0bd97dd61fb7f95cf425fa\"\n",
    "client_secret = \"6afec5e52be32eafb4af80cbeec1231d063fda00\"\n",
    "auth_url = \"https://auth.humanapi.co/v1/connect/token\"\n",
    "\n",
    "body = {\n",
    "  \"client_id\": client_id,\n",
    "  \"client_user_id\": \"pjroth_12345\",\n",
    "  \"client_user_email\": \"pjroth@gmail.com\",\n",
    "  \"client_secret\": client_secret,\n",
    "  \"type\": \"id\"\n",
    "};\n",
    "\n",
    "res = rq.post(auth_url, body)"
   ]
  },
  {
   "cell_type": "code",
   "execution_count": 47,
   "metadata": {},
   "outputs": [],
   "source": [
    "token = res.json()['id_token']"
   ]
  },
  {
   "cell_type": "code",
   "execution_count": 48,
   "metadata": {},
   "outputs": [
    {
     "data": {
      "text/plain": [
       "{'token_type': 'Bearer',\n",
       " 'id_token': 'eyJraWQiOiJSdjlSQ3o0VDB3TUNhSkhTYVg4bkg3Q1lOTFpmdUNsZnF2eDA1SFlja0ZvIiwiYWxnIjoiUlMyNTYifQ.eyJ2ZXIiOjEsImp0aSI6IkFULkthZjZvdnJDNzJndnQ3aHN5eHRtRkZvb2JqenR1dktoc3NGRlBvVnNBY1EuQ0dpbWxCam45OFliVTRZa20zb1EweTlJWE5xamhzL0lBaWpnZk50ZVhoUT0iLCJpc3MiOiJodHRwczovL2h1bWFuYXBpLm9rdGEuY29tL29hdXRoMi9hdXN1bHY5d2tjcEx5UDJEZDI5NiIsImF1ZCI6ImNvLmh1bWFuYXBpLnByb2R1Y3Rpb24iLCJpYXQiOjE1ODcwOTM3OTcsImV4cCI6MTU4NzE4MDE5NywiY2lkIjoiMG9hdWx2ZGFnM1hhRFE4cXUyOTYiLCJ1aWQiOiIwMHUzZ215OTYzaG1qc28xMjI5NyIsInNjcCI6WyJvZmZsaW5lX2FjY2VzcyIsIm9wZW5pZCJdLCJzdWIiOiJhbm9uLXVzZXIrYzBjZTE1NzAtN2MwYS0xMWVhLWFlZGQtNTVlNWMyM2E0YmZmQG5vdC5odW1hbmFwaS5jbyIsImNsaWVudElkIjoiYjNiYTgyZWRjYjdhY2YwYjVjMGJkOTdkZDYxZmI3Zjk1Y2Y0MjVmYSIsImh1bWFuSWQiOiIxOGQ0Y2RlNGEzYzYzNTg2YzIwYTdiNDU1MjY0MzAyNSIsImV4dGVybmFsSWQiOiJwanJvdGhfMTIzNDUiLCJncm91cHMiOlsiZW5kdXNlcnMiXSwidXNlcklkIjoiNWU5MWU0ZTUwNjQ4YTY0ZDRhNjg0NzQ1In0.KJ1x3FzBNDkSVU4KvMc0h87fUXwLkyYyv9q4u27dzc6URFE-Z-41jIpkzTg8-AQlom63zrzR3alrJge6pi1G6-vi-EDf2AmYvx4ROGJj0mltHcftWNIBVFOONkQNs9GIvUdMofKV2PQKyCUOXRRC50XRKt2AJ0iLon0GeDZR9q_YzCp971ecFCj9U8Ns-uoOOelv070njkN-qBmYtyxGovyJ7FU1LgOePK8OJ1QaEPYxDxqwSQAqa09F9p66wc8tVD4rfJmmAWSQ8xCOZLpoY3op_UTlaF2kfreDO0V9fmVQo23X_SxN8UZpVNAFWFh9F1ZxMpEG7gfEQzfhVVzseQ',\n",
       " 'id_refresh_token': 'idrt-9SPaCfyDP4rgvigWUJSzCbSwsGHxcIkE_91mJ5-NQWg',\n",
       " 'id_token_expires_in': 86400}"
      ]
     },
     "execution_count": 48,
     "metadata": {},
     "output_type": "execute_result"
    }
   ],
   "source": [
    "res.json()"
   ]
  },
  {
   "cell_type": "code",
   "execution_count": 49,
   "metadata": {},
   "outputs": [],
   "source": [
    "header = {\n",
    "    \"Authorization\": f\"Bearer %s\" % token\n",
    "}"
   ]
  },
  {
   "cell_type": "code",
   "execution_count": 50,
   "metadata": {
    "scrolled": true
   },
   "outputs": [
    {
     "data": {
      "text/plain": [
       "{'code': 401,\n",
       " 'error': 'invalid_token',\n",
       " 'message': 'The API token is not valid. It might have been revoked or refreshed.'}"
      ]
     },
     "execution_count": 50,
     "metadata": {},
     "output_type": "execute_result"
    }
   ],
   "source": [
    "rq.get(\"https://api.humanapi.co/v1/human/medical/allergies\", headers=header).json()"
   ]
  },
  {
   "cell_type": "code",
   "execution_count": null,
   "metadata": {},
   "outputs": [],
   "source": []
  }
 ],
 "metadata": {
  "kernelspec": {
   "display_name": "Python 3",
   "language": "python",
   "name": "python3"
  },
  "language_info": {
   "codemirror_mode": {
    "name": "ipython",
    "version": 3
   },
   "file_extension": ".py",
   "mimetype": "text/x-python",
   "name": "python",
   "nbconvert_exporter": "python",
   "pygments_lexer": "ipython3",
   "version": "3.6.10"
  }
 },
 "nbformat": 4,
 "nbformat_minor": 4
}
