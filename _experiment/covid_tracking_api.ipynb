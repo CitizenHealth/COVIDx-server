{
 "cells": [
  {
   "cell_type": "code",
   "execution_count": 22,
   "metadata": {},
   "outputs": [
    {
     "ename": "ModuleNotFoundError",
     "evalue": "No module named 'flask'",
     "output_type": "error",
     "traceback": [
      "\u001b[0;31m---------------------------------------------------------------------------\u001b[0m",
      "\u001b[0;31mModuleNotFoundError\u001b[0m                       Traceback (most recent call last)",
      "\u001b[0;32m<ipython-input-22-fc87b1d8087a>\u001b[0m in \u001b[0;36m<module>\u001b[0;34m\u001b[0m\n\u001b[1;32m      2\u001b[0m \u001b[0;32mimport\u001b[0m \u001b[0mcsv\u001b[0m\u001b[0;34m\u001b[0m\u001b[0;34m\u001b[0m\u001b[0m\n\u001b[1;32m      3\u001b[0m \u001b[0;32mimport\u001b[0m \u001b[0mjson\u001b[0m\u001b[0;34m\u001b[0m\u001b[0;34m\u001b[0m\u001b[0m\n\u001b[0;32m----> 4\u001b[0;31m \u001b[0;32mfrom\u001b[0m \u001b[0mflask\u001b[0m \u001b[0;32mimport\u001b[0m \u001b[0mrequest\u001b[0m\u001b[0;34m,\u001b[0m \u001b[0mjsonify\u001b[0m\u001b[0;34m\u001b[0m\u001b[0;34m\u001b[0m\u001b[0m\n\u001b[0m",
      "\u001b[0;31mModuleNotFoundError\u001b[0m: No module named 'flask'"
     ]
    }
   ],
   "source": [
    "import requests as rq\n",
    "import csv\n",
    "import json\n",
    "from flask import request, jsonify"
   ]
  },
  {
   "cell_type": "code",
   "execution_count": 56,
   "metadata": {},
   "outputs": [],
   "source": [
    "covid_tracking = rq.get(\"https://covidtracking.com/api/v1/states/current.json\").json()"
   ]
  },
  {
   "cell_type": "code",
   "execution_count": 17,
   "metadata": {
    "scrolled": true
   },
   "outputs": [],
   "source": [
    "with open(\"states_coords.csv\", \"r\") as f:\n",
    "    csv_file = csv.reader(f, delimiter=\",\")\n",
    "    csv_unpacked = [row for row in csv_file]\n",
    "    states_coords = [{csv_unpacked[0][i]: row[i] for i in range(len(row))} for row in csv_unpacked]"
   ]
  },
  {
   "cell_type": "code",
   "execution_count": 58,
   "metadata": {},
   "outputs": [],
   "source": [
    "for covid_row in covid_tracking:\n",
    "    for coords_row in states_coords:\n",
    "        if covid_row['state']==coords_row['state']:\n",
    "            covid_row['longitude']=coords_row['longitude']\n",
    "            covid_row['latitude']=coords_row['latitude']"
   ]
  },
  {
   "cell_type": "code",
   "execution_count": 21,
   "metadata": {},
   "outputs": [
    {
     "ename": "NameError",
     "evalue": "name 'jsonify' is not defined",
     "output_type": "error",
     "traceback": [
      "\u001b[0;31m---------------------------------------------------------------------------\u001b[0m",
      "\u001b[0;31mNameError\u001b[0m                                 Traceback (most recent call last)",
      "\u001b[0;32m<ipython-input-21-c607d7afa236>\u001b[0m in \u001b[0;36m<module>\u001b[0;34m\u001b[0m\n\u001b[0;32m----> 1\u001b[0;31m \u001b[0mjsonify\u001b[0m\u001b[0;34m(\u001b[0m\u001b[0mcovid_tracking\u001b[0m\u001b[0;34m)\u001b[0m\u001b[0;34m\u001b[0m\u001b[0;34m\u001b[0m\u001b[0m\n\u001b[0m",
      "\u001b[0;31mNameError\u001b[0m: name 'jsonify' is not defined"
     ]
    }
   ],
   "source": [
    "jsonify(covid_tracking)"
   ]
  },
  {
   "cell_type": "code",
   "execution_count": 4,
   "metadata": {},
   "outputs": [],
   "source": [
    "{**covid_tracking[0], 'hi':'yo'}"
   ]
  },
  {
   "cell_type": "code",
   "execution_count": 19,
   "metadata": {},
   "outputs": [
    {
     "data": {
      "text/plain": [
       "[{'state': 'AK',\n",
       "  'latitude': '63.588753',\n",
       "  'longitude': '-154.493062',\n",
       "  'name': 'Alaska'},\n",
       " {'state': 'AL',\n",
       "  'latitude': '32.318231',\n",
       "  'longitude': '-86.902298',\n",
       "  'name': 'Alabama'},\n",
       " {'state': 'AR',\n",
       "  'latitude': '35.20105',\n",
       "  'longitude': '-91.831833',\n",
       "  'name': 'Arkansas'},\n",
       " {'state': 'AZ',\n",
       "  'latitude': '34.048928',\n",
       "  'longitude': '-111.093731',\n",
       "  'name': 'Arizona'},\n",
       " {'state': 'CA',\n",
       "  'latitude': '36.778261',\n",
       "  'longitude': '-119.417932',\n",
       "  'name': 'California'},\n",
       " {'state': 'CO',\n",
       "  'latitude': '39.550051',\n",
       "  'longitude': '-105.782067',\n",
       "  'name': 'Colorado'},\n",
       " {'state': 'CT',\n",
       "  'latitude': '41.603221',\n",
       "  'longitude': '-73.087749',\n",
       "  'name': 'Connecticut'},\n",
       " {'state': 'DC',\n",
       "  'latitude': '38.905985',\n",
       "  'longitude': '-77.033418',\n",
       "  'name': 'District of Columbia'},\n",
       " {'state': 'DE',\n",
       "  'latitude': '38.910832',\n",
       "  'longitude': '-75.52767',\n",
       "  'name': 'Delaware'},\n",
       " {'state': 'FL',\n",
       "  'latitude': '27.664827',\n",
       "  'longitude': '-81.515754',\n",
       "  'name': 'Florida'},\n",
       " {'state': 'GA',\n",
       "  'latitude': '32.157435',\n",
       "  'longitude': '-82.907123',\n",
       "  'name': 'Georgia'},\n",
       " {'state': 'HI',\n",
       "  'latitude': '19.898682',\n",
       "  'longitude': '-155.665857',\n",
       "  'name': 'Hawaii'},\n",
       " {'state': 'IA',\n",
       "  'latitude': '41.878003',\n",
       "  'longitude': '-93.097702',\n",
       "  'name': 'Iowa'},\n",
       " {'state': 'ID',\n",
       "  'latitude': '44.068202',\n",
       "  'longitude': '-114.742041',\n",
       "  'name': 'Idaho'},\n",
       " {'state': 'IL',\n",
       "  'latitude': '40.633125',\n",
       "  'longitude': '-89.398528',\n",
       "  'name': 'Illinois'},\n",
       " {'state': 'IN',\n",
       "  'latitude': '40.551217',\n",
       "  'longitude': '-85.602364',\n",
       "  'name': 'Indiana'},\n",
       " {'state': 'KS',\n",
       "  'latitude': '39.011902',\n",
       "  'longitude': '-98.484246',\n",
       "  'name': 'Kansas'},\n",
       " {'state': 'KY',\n",
       "  'latitude': '37.839333',\n",
       "  'longitude': '-84.270018',\n",
       "  'name': 'Kentucky'},\n",
       " {'state': 'LA',\n",
       "  'latitude': '31.244823',\n",
       "  'longitude': '-92.145024',\n",
       "  'name': 'Louisiana'},\n",
       " {'state': 'MA',\n",
       "  'latitude': '42.407211',\n",
       "  'longitude': '-71.382437',\n",
       "  'name': 'Massachusetts'},\n",
       " {'state': 'MD',\n",
       "  'latitude': '39.045755',\n",
       "  'longitude': '-76.641271',\n",
       "  'name': 'Maryland'},\n",
       " {'state': 'ME',\n",
       "  'latitude': '45.253783',\n",
       "  'longitude': '-69.445469',\n",
       "  'name': 'Maine'},\n",
       " {'state': 'MI',\n",
       "  'latitude': '44.314844',\n",
       "  'longitude': '-85.602364',\n",
       "  'name': 'Michigan'},\n",
       " {'state': 'MN',\n",
       "  'latitude': '46.729553',\n",
       "  'longitude': '-94.6859',\n",
       "  'name': 'Minnesota'},\n",
       " {'state': 'MO',\n",
       "  'latitude': '37.964253',\n",
       "  'longitude': '-91.831833',\n",
       "  'name': 'Missouri'},\n",
       " {'state': 'MS',\n",
       "  'latitude': '32.354668',\n",
       "  'longitude': '-89.398528',\n",
       "  'name': 'Mississippi'},\n",
       " {'state': 'MT',\n",
       "  'latitude': '46.879682',\n",
       "  'longitude': '-110.362566',\n",
       "  'name': 'Montana'},\n",
       " {'state': 'NC',\n",
       "  'latitude': '35.759573',\n",
       "  'longitude': '-79.0193',\n",
       "  'name': 'North Carolina'},\n",
       " {'state': 'ND',\n",
       "  'latitude': '47.551493',\n",
       "  'longitude': '-101.002012',\n",
       "  'name': 'North Dakota'},\n",
       " {'state': 'NE',\n",
       "  'latitude': '41.492537',\n",
       "  'longitude': '-99.901813',\n",
       "  'name': 'Nebraska'},\n",
       " {'state': 'NH',\n",
       "  'latitude': '43.193852',\n",
       "  'longitude': '-71.572395',\n",
       "  'name': 'New Hampshire'},\n",
       " {'state': 'NJ',\n",
       "  'latitude': '40.058324',\n",
       "  'longitude': '-74.405661',\n",
       "  'name': 'New Jersey'},\n",
       " {'state': 'NM',\n",
       "  'latitude': '34.97273',\n",
       "  'longitude': '-105.032363',\n",
       "  'name': 'New Mexico'},\n",
       " {'state': 'NV',\n",
       "  'latitude': '38.80261',\n",
       "  'longitude': '-116.419389',\n",
       "  'name': 'Nevada'},\n",
       " {'state': 'NY',\n",
       "  'latitude': '43.299428',\n",
       "  'longitude': '-74.217933',\n",
       "  'name': 'New York'},\n",
       " {'state': 'OH',\n",
       "  'latitude': '40.417287',\n",
       "  'longitude': '-82.907123',\n",
       "  'name': 'Ohio'},\n",
       " {'state': 'OK',\n",
       "  'latitude': '35.007752',\n",
       "  'longitude': '-97.092877',\n",
       "  'name': 'Oklahoma'},\n",
       " {'state': 'OR',\n",
       "  'latitude': '43.804133',\n",
       "  'longitude': '-120.554201',\n",
       "  'name': 'Oregon'},\n",
       " {'state': 'PA',\n",
       "  'latitude': '41.203322',\n",
       "  'longitude': '-77.194525',\n",
       "  'name': 'Pennsylvania'},\n",
       " {'state': 'PR',\n",
       "  'latitude': '18.220833',\n",
       "  'longitude': '-66.590149',\n",
       "  'name': 'Puerto Rico'},\n",
       " {'state': 'RI',\n",
       "  'latitude': '41.580095',\n",
       "  'longitude': '-71.477429',\n",
       "  'name': 'Rhode Island'},\n",
       " {'state': 'SC',\n",
       "  'latitude': '33.836081',\n",
       "  'longitude': '-81.163725',\n",
       "  'name': 'South Carolina'},\n",
       " {'state': 'SD',\n",
       "  'latitude': '43.969515',\n",
       "  'longitude': '-99.901813',\n",
       "  'name': 'South Dakota'},\n",
       " {'state': 'TN',\n",
       "  'latitude': '35.517491',\n",
       "  'longitude': '-86.580447',\n",
       "  'name': 'Tennessee'},\n",
       " {'state': 'TX',\n",
       "  'latitude': '31.968599',\n",
       "  'longitude': '-99.901813',\n",
       "  'name': 'Texas'},\n",
       " {'state': 'UT',\n",
       "  'latitude': '39.32098',\n",
       "  'longitude': '-111.093731',\n",
       "  'name': 'Utah'},\n",
       " {'state': 'VA',\n",
       "  'latitude': '37.431573',\n",
       "  'longitude': '-78.656894',\n",
       "  'name': 'Virginia'},\n",
       " {'state': 'VT',\n",
       "  'latitude': '44.558803',\n",
       "  'longitude': '-72.577841',\n",
       "  'name': 'Vermont'},\n",
       " {'state': 'WA',\n",
       "  'latitude': '47.751074',\n",
       "  'longitude': '-120.740139',\n",
       "  'name': 'Washington'},\n",
       " {'state': 'WI',\n",
       "  'latitude': '43.78444',\n",
       "  'longitude': '-88.787868',\n",
       "  'name': 'Wisconsin'},\n",
       " {'state': 'WV',\n",
       "  'latitude': '38.597626',\n",
       "  'longitude': '-80.454903',\n",
       "  'name': 'West Virginia'},\n",
       " {'state': 'WY',\n",
       "  'latitude': '43.075968',\n",
       "  'longitude': '-107.290284',\n",
       "  'name': 'Wyoming'}]"
      ]
     },
     "execution_count": 19,
     "metadata": {},
     "output_type": "execute_result"
    }
   ],
   "source": [
    "states_coords[1:]"
   ]
  },
  {
   "cell_type": "code",
   "execution_count": 15,
   "metadata": {},
   "outputs": [
    {
     "name": "stdout",
     "output_type": "stream",
     "text": [
      "Arizona\n"
     ]
    }
   ],
   "source": [
    "for state in jf['features']:\n",
    "    print(state['properties']['NAME'])\n",
    "    break"
   ]
  },
  {
   "cell_type": "code",
   "execution_count": null,
   "metadata": {},
   "outputs": [],
   "source": []
  },
  {
   "cell_type": "code",
   "execution_count": null,
   "metadata": {},
   "outputs": [],
   "source": []
  }
 ],
 "metadata": {
  "kernelspec": {
   "display_name": "Python 3",
   "language": "python",
   "name": "python3"
  },
  "language_info": {
   "codemirror_mode": {
    "name": "ipython",
    "version": 3
   },
   "file_extension": ".py",
   "mimetype": "text/x-python",
   "name": "python",
   "nbconvert_exporter": "python",
   "pygments_lexer": "ipython3",
   "version": "3.6.10"
  }
 },
 "nbformat": 4,
 "nbformat_minor": 4
}
